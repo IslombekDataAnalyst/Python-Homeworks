{
 "cells": [
  {
   "cell_type": "markdown",
   "id": "6750772e",
   "metadata": {},
   "source": [
    "## Lists and Tuples\n"
   ]
  },
  {
   "cell_type": "markdown",
   "id": "84e5ce60",
   "metadata": {
    "vscode": {
     "languageId": "plaintext"
    }
   },
   "source": [
    "list is a Python data type that stores one or many elements\n",
    "\n",
    "lists are mutable - it means that we can change the elements of a list\n",
    "\n",
    "strings are immutable \n",
    "\n",
    "you can store any data type in a list(int, str, dictionaries, set, tuple.....)\n",
    "\n",
    "lists are iterable\n",
    "\n",
    "\n",
    "iterable - har bitta elementiga alohida bog'lansak(chaqirib olsak) bo'ladi\n"
   ]
  },
  {
   "cell_type": "markdown",
   "id": "a966773e",
   "metadata": {},
   "source": [
    "strings are also iterable\n",
    "\n",
    "int is not iterable"
   ]
  },
  {
   "cell_type": "code",
   "execution_count": 105,
   "id": "e3ce8ea9",
   "metadata": {},
   "outputs": [
    {
     "ename": "TypeError",
     "evalue": "'str' object does not support item assignment",
     "output_type": "error",
     "traceback": [
      "\u001b[31m---------------------------------------------------------------------------\u001b[39m",
      "\u001b[31mTypeError\u001b[39m                                 Traceback (most recent call last)",
      "\u001b[36mCell\u001b[39m\u001b[36m \u001b[39m\u001b[32mIn[105]\u001b[39m\u001b[32m, line 9\u001b[39m\n\u001b[32m      5\u001b[39m name[\u001b[32m1\u001b[39m]\n\u001b[32m      7\u001b[39m name[-\u001b[32m1\u001b[39m]\n\u001b[32m----> \u001b[39m\u001b[32m9\u001b[39m \u001b[43mname\u001b[49m\u001b[43m[\u001b[49m\u001b[43m-\u001b[49m\u001b[32;43m1\u001b[39;49m\u001b[43m]\u001b[49m = \u001b[33m'\u001b[39m\u001b[33msdfgd\u001b[39m\u001b[33m'\u001b[39m\n",
      "\u001b[31mTypeError\u001b[39m: 'str' object does not support item assignment"
     ]
    }
   ],
   "source": [
    "#       0123\n",
    "name = 'John'\n",
    "\n",
    "\n",
    "name[1]\n",
    "\n",
    "name[-1]\n",
    "\n",
    "name[-1] = 'sdfgd'\n"
   ]
  },
  {
   "cell_type": "code",
   "execution_count": null,
   "id": "a0215194",
   "metadata": {},
   "outputs": [
    {
     "ename": "TypeError",
     "evalue": "'int' object is not subscriptable",
     "output_type": "error",
     "traceback": [
      "\u001b[31m---------------------------------------------------------------------------\u001b[39m",
      "\u001b[31mTypeError\u001b[39m                                 Traceback (most recent call last)",
      "\u001b[36mCell\u001b[39m\u001b[36m \u001b[39m\u001b[32mIn[12]\u001b[39m\u001b[32m, line 3\u001b[39m\n\u001b[32m      1\u001b[39m population = [\u001b[32m8\u001b[39m,\u001b[32m235\u001b[39m,\u001b[32m435\u001b[39m,\u001b[32m345\u001b[39m]\n\u001b[32m----> \u001b[39m\u001b[32m3\u001b[39m \u001b[43mpopulation\u001b[49m\u001b[43m[\u001b[49m\u001b[32;43m3\u001b[39;49m\u001b[43m]\u001b[49m\u001b[43m[\u001b[49m\u001b[32;43m1\u001b[39;49m\u001b[43m]\u001b[49m\n",
      "\u001b[31mTypeError\u001b[39m: 'int' object is not subscriptable"
     ]
    }
   ],
   "source": [
    "population = [8,235,435,345]\n",
    "\n",
    "population[3]\n",
    "\n"
   ]
  },
  {
   "cell_type": "markdown",
   "id": "d662ed49",
   "metadata": {},
   "source": [
    "#### Creating a list"
   ]
  },
  {
   "cell_type": "code",
   "execution_count": null,
   "id": "a65b58df",
   "metadata": {},
   "outputs": [
    {
     "data": {
      "text/plain": [
       "[]"
      ]
     },
     "execution_count": 5,
     "metadata": {},
     "output_type": "execute_result"
    }
   ],
   "source": [
    "my_list = []\n",
    "\n",
    "#empty\n",
    "\n",
    "my_list"
   ]
  },
  {
   "cell_type": "code",
   "execution_count": 7,
   "id": "6f06bc80",
   "metadata": {},
   "outputs": [
    {
     "data": {
      "text/plain": [
       "[]"
      ]
     },
     "execution_count": 7,
     "metadata": {},
     "output_type": "execute_result"
    }
   ],
   "source": [
    "my_list = list()\n",
    "\n",
    "my_list"
   ]
  },
  {
   "cell_type": "code",
   "execution_count": 9,
   "id": "5775a856",
   "metadata": {},
   "outputs": [
    {
     "data": {
      "text/plain": [
       "[14, 2435, 'sdsdg', ('sfsd', 'wdfsdf')]"
      ]
     },
     "execution_count": 9,
     "metadata": {},
     "output_type": "execute_result"
    }
   ],
   "source": [
    "my_list = [14, 2435, 'sdsdg', ('sfsd', 'wdfsdf')]\n",
    "\n",
    "my_list\n"
   ]
  },
  {
   "cell_type": "code",
   "execution_count": 13,
   "id": "e00ffd6e",
   "metadata": {},
   "outputs": [
    {
     "data": {
      "text/plain": [
       "['h', 'e', 'l', 'l', 'o']"
      ]
     },
     "execution_count": 13,
     "metadata": {},
     "output_type": "execute_result"
    }
   ],
   "source": [
    "# strings are iterable\n",
    "\n",
    "my_list = list('hello')\n",
    "\n",
    "my_list"
   ]
  },
  {
   "cell_type": "code",
   "execution_count": 14,
   "id": "2b7f162f",
   "metadata": {},
   "outputs": [
    {
     "data": {
      "text/plain": [
       "[2345, 2452, 2345, 234524]"
      ]
     },
     "execution_count": 14,
     "metadata": {},
     "output_type": "execute_result"
    }
   ],
   "source": [
    "my_list = list([2345,2452,2345,234524])\n",
    "\n",
    "my_list"
   ]
  },
  {
   "cell_type": "markdown",
   "id": "59103319",
   "metadata": {},
   "source": [
    "### List Methods"
   ]
  },
  {
   "cell_type": "code",
   "execution_count": null,
   "id": "f0c5f473",
   "metadata": {},
   "outputs": [
    {
     "data": {
      "text/plain": [
       "['__add__',\n",
       " '__class__',\n",
       " '__class_getitem__',\n",
       " '__contains__',\n",
       " '__delattr__',\n",
       " '__delitem__',\n",
       " '__dir__',\n",
       " '__doc__',\n",
       " '__eq__',\n",
       " '__format__',\n",
       " '__ge__',\n",
       " '__getattribute__',\n",
       " '__getitem__',\n",
       " '__getstate__',\n",
       " '__gt__',\n",
       " '__hash__',\n",
       " '__iadd__',\n",
       " '__imul__',\n",
       " '__init__',\n",
       " '__init_subclass__',\n",
       " '__iter__',\n",
       " '__le__',\n",
       " '__len__',\n",
       " '__lt__',\n",
       " '__mul__',\n",
       " '__ne__',\n",
       " '__new__',\n",
       " '__reduce__',\n",
       " '__reduce_ex__',\n",
       " '__repr__',\n",
       " '__reversed__',\n",
       " '__rmul__',\n",
       " '__setattr__',\n",
       " '__setitem__',\n",
       " '__sizeof__',\n",
       " '__str__',\n",
       " '__subclasshook__',\n",
       " 'append',\n",
       " 'clear',\n",
       " 'copy',\n",
       " 'count',\n",
       " 'extend',\n",
       " 'index',\n",
       " 'insert',\n",
       " 'pop',\n",
       " 'remove',\n",
       " 'reverse',\n",
       " 'sort']"
      ]
     },
     "execution_count": 17,
     "metadata": {},
     "output_type": "execute_result"
    }
   ],
   "source": [
    "my_list = []\n",
    "\n",
    "dir(my_list)\n",
    "\n"
   ]
  },
  {
   "cell_type": "code",
   "execution_count": 18,
   "id": "61aba621",
   "metadata": {},
   "outputs": [
    {
     "data": {
      "text/plain": [
       "['h', 'e', 'l', 'l', 'o', ' ', 'w', 'o', 'r', 'l', 'd']"
      ]
     },
     "execution_count": 18,
     "metadata": {},
     "output_type": "execute_result"
    }
   ],
   "source": [
    "my_list = list('hello world')\n",
    "\n",
    "my_list"
   ]
  },
  {
   "cell_type": "code",
   "execution_count": null,
   "id": "345b291e",
   "metadata": {},
   "outputs": [
    {
     "ename": "TypeError",
     "evalue": "list.count() takes exactly one argument (0 given)",
     "output_type": "error",
     "traceback": [
      "\u001b[31m---------------------------------------------------------------------------\u001b[39m",
      "\u001b[31mTypeError\u001b[39m                                 Traceback (most recent call last)",
      "\u001b[36mCell\u001b[39m\u001b[36m \u001b[39m\u001b[32mIn[23]\u001b[39m\u001b[32m, line 12\u001b[39m\n\u001b[32m      7\u001b[39m my_list.count(\u001b[33m'\u001b[39m\u001b[33mo\u001b[39m\u001b[33m'\u001b[39m)\n\u001b[32m     10\u001b[39m my_list.count(\u001b[33m'\u001b[39m\u001b[33maa\u001b[39m\u001b[33m'\u001b[39m)\n\u001b[32m---> \u001b[39m\u001b[32m12\u001b[39m \u001b[43mmy_list\u001b[49m\u001b[43m.\u001b[49m\u001b[43mcount\u001b[49m\u001b[43m(\u001b[49m\u001b[43m)\u001b[49m\n",
      "\u001b[31mTypeError\u001b[39m: list.count() takes exactly one argument (0 given)"
     ]
    }
   ],
   "source": [
    "# count\n",
    "my_list = ['aa', 'ab', 'ab', 'ad', 'fb', 'gb']\n",
    "\n",
    "\n",
    "my_list.count('l')\n",
    "\n",
    "my_list.count('o')\n",
    "\n",
    "\n",
    "my_list.count('aa')\n",
    "\n",
    "# my_list.count()"
   ]
  },
  {
   "cell_type": "markdown",
   "id": "66bc440e",
   "metadata": {},
   "source": [
    "### Index"
   ]
  },
  {
   "cell_type": "code",
   "execution_count": null,
   "id": "307b1e40",
   "metadata": {},
   "outputs": [
    {
     "ename": "ValueError",
     "evalue": "'asdfasdf' is not in list",
     "output_type": "error",
     "traceback": [
      "\u001b[31m---------------------------------------------------------------------------\u001b[39m",
      "\u001b[31mValueError\u001b[39m                                Traceback (most recent call last)",
      "\u001b[36mCell\u001b[39m\u001b[36m \u001b[39m\u001b[32mIn[31]\u001b[39m\u001b[32m, line 14\u001b[39m\n\u001b[32m      5\u001b[39m \u001b[38;5;66;03m# print(my_list.index('ab'))\u001b[39;00m\n\u001b[32m      6\u001b[39m \n\u001b[32m      7\u001b[39m \n\u001b[32m      8\u001b[39m \u001b[38;5;66;03m# print(my_list.index('ab'))\u001b[39;00m\n\u001b[32m     10\u001b[39m my_list.index(\u001b[33m'\u001b[39m\u001b[33maa\u001b[39m\u001b[33m'\u001b[39m)\n\u001b[32m---> \u001b[39m\u001b[32m14\u001b[39m \u001b[43mmy_list\u001b[49m\u001b[43m.\u001b[49m\u001b[43mindex\u001b[49m\u001b[43m(\u001b[49m\u001b[33;43m'\u001b[39;49m\u001b[33;43masdfasdf\u001b[39;49m\u001b[33;43m'\u001b[39;49m\u001b[43m)\u001b[49m\n",
      "\u001b[31mValueError\u001b[39m: 'asdfasdf' is not in list"
     ]
    }
   ],
   "source": [
    "\n",
    "my_list = ['aa', 'ab', 'ab', 'fb', 'gb', 'ab'] \n",
    "\n",
    "my_list.index('aa')\n",
    "\n",
    "# print(my_list.index('ab'))\n",
    "\n",
    "\n",
    "# print(my_list.index('ab'))\n",
    "\n",
    "my_list.index('aa')\n",
    "\n",
    "my_list.index('asdfasdf')\n"
   ]
  },
  {
   "cell_type": "code",
   "execution_count": null,
   "id": "6ff75a73",
   "metadata": {},
   "outputs": [
    {
     "data": {
      "text/plain": [
       "0"
      ]
     },
     "execution_count": 37,
     "metadata": {},
     "output_type": "execute_result"
    }
   ],
   "source": [
    "#          0 1 2 3 4 5 6 \n",
    "my_list = [1,2,3,4,5,6,1]\n",
    "\n",
    "my_list.index(2)\n",
    "\n",
    "my_list.index(1)\n",
    "\n",
    "\n"
   ]
  },
  {
   "cell_type": "markdown",
   "id": "2603cc79",
   "metadata": {},
   "source": [
    "### Reverse"
   ]
  },
  {
   "cell_type": "code",
   "execution_count": null,
   "id": "d32f901c",
   "metadata": {},
   "outputs": [
    {
     "name": "stdout",
     "output_type": "stream",
     "text": [
      "None\n",
      "['f', 'b', 'd', 'g', 'a']\n"
     ]
    }
   ],
   "source": [
    "my_list = ['a', 'g', 'd', 'b', 'f']\n",
    "\n",
    "my_list.reverse()\n",
    "\n",
    "print(my_list)\n"
   ]
  },
  {
   "cell_type": "markdown",
   "id": "04276d37",
   "metadata": {},
   "source": [
    "### Append\n",
    "\n",
    "add the given element to the end of the list"
   ]
  },
  {
   "cell_type": "code",
   "execution_count": 43,
   "id": "56b76886",
   "metadata": {},
   "outputs": [
    {
     "data": {
      "text/plain": [
       "[12, 18, 20, 35, 50, 67]"
      ]
     },
     "execution_count": 43,
     "metadata": {},
     "output_type": "execute_result"
    }
   ],
   "source": [
    "my_list = [12, 18, 20, 35, 50]\n",
    "\n",
    "my_list.append(67)\n",
    "\n",
    "my_list"
   ]
  },
  {
   "cell_type": "code",
   "execution_count": 53,
   "id": "0103240d",
   "metadata": {},
   "outputs": [
    {
     "data": {
      "text/plain": [
       "['Salom']"
      ]
     },
     "execution_count": 53,
     "metadata": {},
     "output_type": "execute_result"
    }
   ],
   "source": [
    "my_list = []\n",
    "my_list.append('Salom')\n",
    "\n",
    "my_list"
   ]
  },
  {
   "cell_type": "code",
   "execution_count": 55,
   "id": "09849bd4",
   "metadata": {},
   "outputs": [
    {
     "data": {
      "text/plain": [
       "['Salom']"
      ]
     },
     "execution_count": 55,
     "metadata": {},
     "output_type": "execute_result"
    }
   ],
   "source": [
    "len(my_list)\n",
    "\n",
    "my_list"
   ]
  },
  {
   "cell_type": "markdown",
   "id": "7773ce2c",
   "metadata": {},
   "source": [
    "### Insert\n",
    "\n",
    "add the element we gave to the index we provided"
   ]
  },
  {
   "cell_type": "code",
   "execution_count": 56,
   "id": "aad7309d",
   "metadata": {},
   "outputs": [
    {
     "data": {
      "text/plain": [
       "['Hello', 'Salom']"
      ]
     },
     "execution_count": 56,
     "metadata": {},
     "output_type": "execute_result"
    }
   ],
   "source": [
    "my_list.insert(0,'Hello')\n",
    "\n",
    "my_list"
   ]
  },
  {
   "cell_type": "code",
   "execution_count": 60,
   "id": "14416d16",
   "metadata": {},
   "outputs": [
    {
     "data": {
      "text/plain": [
       "['Hello', 'World', 'World', 'sdfasdfd', 'Salom', 'sdfjaksdfasdfh']"
      ]
     },
     "execution_count": 60,
     "metadata": {},
     "output_type": "execute_result"
    }
   ],
   "source": [
    "my_list.insert(15,'sdfjaksdfasdfh')\n",
    "\n",
    "my_list"
   ]
  },
  {
   "cell_type": "code",
   "execution_count": 65,
   "id": "6ec8dcb2",
   "metadata": {},
   "outputs": [],
   "source": [
    "my_list\n",
    "\n",
    "\n",
    "my_list.insert(len(my_list),'Dunyo')"
   ]
  },
  {
   "cell_type": "code",
   "execution_count": 66,
   "id": "91c7e3dc",
   "metadata": {},
   "outputs": [
    {
     "data": {
      "text/plain": [
       "['Hello',\n",
       " 'World',\n",
       " 'World',\n",
       " 'sdfasdfd',\n",
       " 'Salom',\n",
       " 'Dunyo',\n",
       " 'sdfjaksdfasdfh',\n",
       " 'Dunyo']"
      ]
     },
     "execution_count": 66,
     "metadata": {},
     "output_type": "execute_result"
    }
   ],
   "source": [
    "my_list"
   ]
  },
  {
   "cell_type": "markdown",
   "id": "0be08ad4",
   "metadata": {},
   "source": [
    "### Extend\n",
    "adds iterable to a list\n"
   ]
  },
  {
   "cell_type": "code",
   "execution_count": 70,
   "id": "cea3ecb5",
   "metadata": {},
   "outputs": [],
   "source": [
    "my_list = [2, 3, 5]"
   ]
  },
  {
   "cell_type": "code",
   "execution_count": 71,
   "id": "19bbbae1",
   "metadata": {},
   "outputs": [],
   "source": [
    "other_list = [7, 11, 13]"
   ]
  },
  {
   "cell_type": "code",
   "execution_count": null,
   "id": "025a4800",
   "metadata": {},
   "outputs": [
    {
     "data": {
      "text/plain": [
       "[2, 3, 5, 7, 11, 13]"
      ]
     },
     "execution_count": 72,
     "metadata": {},
     "output_type": "execute_result"
    }
   ],
   "source": [
    "my_list.extend(other_list)\n",
    "my_list\n"
   ]
  },
  {
   "cell_type": "code",
   "execution_count": 76,
   "id": "e447a8f2",
   "metadata": {},
   "outputs": [
    {
     "data": {
      "text/plain": [
       "[2, 3, 5, 100]"
      ]
     },
     "execution_count": 76,
     "metadata": {},
     "output_type": "execute_result"
    }
   ],
   "source": [
    "# lists can store any data type\n",
    "\n",
    "# nested list\n",
    "my_list = [2, 3, 5]\n",
    "\n",
    "other_list = [7, 11, 13]\n",
    "\n",
    "my_list.append(100)\n",
    "\n",
    "my_list"
   ]
  },
  {
   "cell_type": "code",
   "execution_count": 77,
   "id": "a8a752b2",
   "metadata": {},
   "outputs": [
    {
     "ename": "TypeError",
     "evalue": "'int' object is not iterable",
     "output_type": "error",
     "traceback": [
      "\u001b[31m---------------------------------------------------------------------------\u001b[39m",
      "\u001b[31mTypeError\u001b[39m                                 Traceback (most recent call last)",
      "\u001b[36mCell\u001b[39m\u001b[36m \u001b[39m\u001b[32mIn[77]\u001b[39m\u001b[32m, line 1\u001b[39m\n\u001b[32m----> \u001b[39m\u001b[32m1\u001b[39m \u001b[43mmy_list\u001b[49m\u001b[43m.\u001b[49m\u001b[43mextend\u001b[49m\u001b[43m(\u001b[49m\u001b[32;43m100\u001b[39;49m\u001b[43m)\u001b[49m\n\u001b[32m      2\u001b[39m my_list\n",
      "\u001b[31mTypeError\u001b[39m: 'int' object is not iterable"
     ]
    }
   ],
   "source": [
    "my_list.extend(100)\n",
    "my_list"
   ]
  },
  {
   "cell_type": "code",
   "execution_count": 94,
   "id": "d29e3f62",
   "metadata": {},
   "outputs": [
    {
     "data": {
      "text/plain": [
       "[2, 3, 5, 7, 11, 13]"
      ]
     },
     "execution_count": 94,
     "metadata": {},
     "output_type": "execute_result"
    }
   ],
   "source": [
    "my_list = [2, 3, 5]\n",
    "\n",
    "other_list = [7, 11, 13]\n",
    "# augmented assignment\n",
    "\n",
    "my_list += other_list\n",
    "#my_list = my_list +  other_list\n",
    "\n",
    "\n",
    "my_list\n"
   ]
  },
  {
   "cell_type": "code",
   "execution_count": null,
   "id": "5d622000",
   "metadata": {},
   "outputs": [
    {
     "name": "stdout",
     "output_type": "stream",
     "text": [
      "hello John Wick!\n"
     ]
    }
   ],
   "source": [
    "my_list = [12123,13241,34]\n",
    "\n",
    "other_list = [245,2,4525]\n",
    "\n",
    "# my_list += other_list\n",
    "\n",
    "name = 'john'\n",
    "\n",
    "last_name = 'Wick'\n",
    "\n",
    "#'hello '+ name + ' ' + last_name\n",
    "\n",
    "print(f'hello {name.capitalize()} {last_name.capitalize()}!')\n"
   ]
  },
  {
   "cell_type": "markdown",
   "id": "32f7807f",
   "metadata": {},
   "source": [
    "### Accessing elements and slicing\n",
    "\n",
    "you can access any element of a list by giving the index of the element you want in square brackets"
   ]
  },
  {
   "cell_type": "code",
   "execution_count": 101,
   "id": "6e87b01a",
   "metadata": {},
   "outputs": [
    {
     "ename": "IndexError",
     "evalue": "list index out of range",
     "output_type": "error",
     "traceback": [
      "\u001b[31m---------------------------------------------------------------------------\u001b[39m",
      "\u001b[31mIndexError\u001b[39m                                Traceback (most recent call last)",
      "\u001b[36mCell\u001b[39m\u001b[36m \u001b[39m\u001b[32mIn[101]\u001b[39m\u001b[32m, line 19\u001b[39m\n\u001b[32m     14\u001b[39m my_list[:-\u001b[32m3\u001b[39m]\n\u001b[32m     17\u001b[39m my_list[-\u001b[32m6\u001b[39m:]\n\u001b[32m---> \u001b[39m\u001b[32m19\u001b[39m \u001b[43mmy_list\u001b[49m\u001b[43m[\u001b[49m\u001b[32;43m15\u001b[39;49m\u001b[43m]\u001b[49m\n",
      "\u001b[31mIndexError\u001b[39m: list index out of range"
     ]
    }
   ],
   "source": [
    "#          0  1  2  3  4   5   6\n",
    "my_list = [2, 3, 5, 7, 11, 13, 17]\n",
    "\n",
    "my_list[3]\n",
    "\n",
    "my_list[-1]\n",
    "\n",
    "\n",
    "my_list[1:]\n",
    "\n",
    "# [start:end]\n",
    "# [:end] starts from the beginning\n",
    "# [start:] untill the end\n",
    "my_list[:-3]\n",
    "\n",
    "\n",
    "my_list[-6:]\n",
    "\n",
    "my_list[15]"
   ]
  },
  {
   "cell_type": "markdown",
   "id": "3f8ec247",
   "metadata": {},
   "source": [
    "### Change Elements of a list"
   ]
  },
  {
   "cell_type": "code",
   "execution_count": null,
   "id": "93faab1d",
   "metadata": {},
   "outputs": [
    {
     "data": {
      "text/plain": [
       "[2, 3, 5, 7, 11, 13, 17]"
      ]
     },
     "execution_count": 102,
     "metadata": {},
     "output_type": "execute_result"
    }
   ],
   "source": [
    "my_list\n",
    "#lists are mutable\n",
    "\n",
    "# string are immutable\n",
    "# immutable objects is an object that you can't change its value after creating\n",
    "# mutable - it is editable any time\n"
   ]
  },
  {
   "cell_type": "code",
   "execution_count": 108,
   "id": "574c0de0",
   "metadata": {},
   "outputs": [
    {
     "data": {
      "text/plain": [
       "[2, 'Salom', 5, 90, 11, 13, 10]"
      ]
     },
     "execution_count": 108,
     "metadata": {},
     "output_type": "execute_result"
    }
   ],
   "source": [
    "my_list\n",
    "\n",
    "my_list[3] = 90\n",
    "\n",
    "my_list[-1] = 10\n",
    "\n",
    "my_list\n",
    "\n",
    "my_list[1] = 'Salom'\n",
    "\n",
    "\n",
    "my_list"
   ]
  },
  {
   "cell_type": "markdown",
   "id": "78015ddf",
   "metadata": {},
   "source": [
    "### Clear\n",
    "\n",
    "deletes evething from the list"
   ]
  },
  {
   "cell_type": "code",
   "execution_count": 115,
   "id": "89f7d9ae",
   "metadata": {},
   "outputs": [
    {
     "data": {
      "text/plain": [
       "[]"
      ]
     },
     "execution_count": 115,
     "metadata": {},
     "output_type": "execute_result"
    }
   ],
   "source": [
    "my_list\n",
    "\n",
    "my_list.clear()\n",
    "\n",
    "my_list\n",
    "\n",
    "my_list = []\n",
    "\n",
    "my_list\n"
   ]
  },
  {
   "cell_type": "markdown",
   "id": "87781077",
   "metadata": {},
   "source": [
    "### Pop\n",
    "\n",
    "deletes the element in the given index and returns the deleted value"
   ]
  },
  {
   "cell_type": "code",
   "execution_count": 126,
   "id": "1267df2c",
   "metadata": {},
   "outputs": [
    {
     "ename": "IndexError",
     "evalue": "pop index out of range",
     "output_type": "error",
     "traceback": [
      "\u001b[31m---------------------------------------------------------------------------\u001b[39m",
      "\u001b[31mIndexError\u001b[39m                                Traceback (most recent call last)",
      "\u001b[36mCell\u001b[39m\u001b[36m \u001b[39m\u001b[32mIn[126]\u001b[39m\u001b[32m, line 7\u001b[39m\n\u001b[32m      1\u001b[39m my_list = [\u001b[32m2\u001b[39m, \u001b[32m4\u001b[39m, \u001b[32m6\u001b[39m, \u001b[32m8\u001b[39m, \u001b[32m10\u001b[39m, \u001b[32m12\u001b[39m]\n\u001b[32m      3\u001b[39m \u001b[38;5;66;03m#my_list.pop(1)\u001b[39;00m\n\u001b[32m      4\u001b[39m \n\u001b[32m      5\u001b[39m \u001b[38;5;66;03m#del_elem = my_list.pop(1)\u001b[39;00m\n\u001b[32m----> \u001b[39m\u001b[32m7\u001b[39m \u001b[43mmy_list\u001b[49m\u001b[43m.\u001b[49m\u001b[43mpop\u001b[49m\u001b[43m(\u001b[49m\u001b[43m-\u001b[49m\u001b[32;43m17\u001b[39;49m\u001b[43m)\u001b[49m\n",
      "\u001b[31mIndexError\u001b[39m: pop index out of range"
     ]
    }
   ],
   "source": [
    "\n",
    "my_list = [2, 4, 6, 8, 10, 12]\n",
    "\n",
    "#my_list.pop(1)\n",
    "\n",
    "#del_elem = my_list.pop(1)\n",
    "\n",
    "my_list.pop(-17)\n",
    "\n",
    "\n",
    "\n",
    "\n"
   ]
  },
  {
   "cell_type": "code",
   "execution_count": 120,
   "id": "99f858c5",
   "metadata": {},
   "outputs": [
    {
     "data": {
      "text/plain": [
       "12"
      ]
     },
     "execution_count": 120,
     "metadata": {},
     "output_type": "execute_result"
    }
   ],
   "source": [
    "my_list\n",
    "\n",
    "my_list.pop()\n"
   ]
  },
  {
   "cell_type": "markdown",
   "id": "c65ce100",
   "metadata": {},
   "source": [
    "### Remove\n",
    "deletes the element you provided"
   ]
  },
  {
   "cell_type": "code",
   "execution_count": null,
   "id": "efb6122a",
   "metadata": {},
   "outputs": [
    {
     "data": {
      "text/plain": [
       "[2, 4, 8, 12]"
      ]
     },
     "execution_count": 132,
     "metadata": {},
     "output_type": "execute_result"
    }
   ],
   "source": [
    "my_list\n",
    "# my_list.remove(6)\n",
    "\n",
    "my_list\n",
    "\n",
    "my_list.remove(10)\n",
    "\n",
    "my_list\n"
   ]
  },
  {
   "cell_type": "markdown",
   "id": "ccc58390",
   "metadata": {},
   "source": [
    "### Sort\n",
    "orders the element in the given order"
   ]
  },
  {
   "cell_type": "code",
   "execution_count": 142,
   "id": "c5a32f6c",
   "metadata": {},
   "outputs": [
    {
     "data": {
      "text/plain": [
       "[12, 10, 8, 6, 4, 2]"
      ]
     },
     "execution_count": 142,
     "metadata": {},
     "output_type": "execute_result"
    }
   ],
   "source": [
    "my_list = [8, 4, 6, 2, 12, 10]\n",
    "my_list.sort(reverse=True)\n",
    "\n",
    "\n",
    "my_list"
   ]
  },
  {
   "cell_type": "code",
   "execution_count": 146,
   "id": "e3a0e56f",
   "metadata": {},
   "outputs": [
    {
     "data": {
      "text/plain": [
       "[2, 4, 6, 8, 10, 12]"
      ]
     },
     "execution_count": 146,
     "metadata": {},
     "output_type": "execute_result"
    }
   ],
   "source": [
    "my_list = [8, 4, 6, 2, 12, 10]\n",
    "\n",
    "sorted(my_list, reverse=True)\n",
    "\n",
    "sorted_list = sorted(my_list)\n",
    "\n",
    "sorted_list\n",
    "\n"
   ]
  },
  {
   "cell_type": "markdown",
   "id": "232e89c6",
   "metadata": {},
   "source": [
    "### Copying Lists\n",
    "copy one list to another"
   ]
  },
  {
   "cell_type": "code",
   "execution_count": 151,
   "id": "8d8d80d3",
   "metadata": {},
   "outputs": [
    {
     "data": {
      "text/plain": [
       "[5, 3, 5, 7]"
      ]
     },
     "execution_count": 151,
     "metadata": {},
     "output_type": "execute_result"
    }
   ],
   "source": [
    "my_list = [1,3, 5, 7]\n",
    "my_list[0] = 5\n",
    "new_list = my_list.copy()\n",
    "\n",
    "new_list\n"
   ]
  },
  {
   "cell_type": "code",
   "execution_count": 153,
   "id": "d7b2bcd5",
   "metadata": {},
   "outputs": [
    {
     "data": {
      "text/plain": [
       "[1, 3, 5, 7]"
      ]
     },
     "execution_count": 153,
     "metadata": {},
     "output_type": "execute_result"
    }
   ],
   "source": [
    "my_list = [1, 3, 5, 7]\n",
    "\n",
    "new_list = my_list\n",
    "\n",
    "new_list"
   ]
  },
  {
   "cell_type": "markdown",
   "id": "095acbca",
   "metadata": {},
   "source": [
    "### Homework Lesson 3 \n"
   ]
  },
  {
   "cell_type": "code",
   "execution_count": 2,
   "id": "fa223027",
   "metadata": {},
   "outputs": [
    {
     "name": "stdout",
     "output_type": "stream",
     "text": [
      "Third fruit: cherry\n"
     ]
    }
   ],
   "source": [
    "#1 \n",
    "fruits = [\"apple\", \"banana\", \"cherry\", \"mango\", \"kiwi\"]\n",
    "print(\"Third fruit:\", fruits[2])\n"
   ]
  },
  {
   "cell_type": "code",
   "execution_count": 3,
   "id": "06650919",
   "metadata": {},
   "outputs": [
    {
     "name": "stdout",
     "output_type": "stream",
     "text": [
      "Concatenated list: [1, 2, 3, 4, 5, 6]\n"
     ]
    }
   ],
   "source": [
    "#2\n",
    "list1 = [1, 2, 3]\n",
    "list2 = [4, 5, 6]\n",
    "combined = list1 + list2\n",
    "print(\"Concatenated list:\", combined)\n"
   ]
  },
  {
   "cell_type": "code",
   "execution_count": null,
   "id": "83896469",
   "metadata": {},
   "outputs": [
    {
     "name": "stdout",
     "output_type": "stream",
     "text": [
      "Extracted elements: [10, 30, 50]\n"
     ]
    }
   ],
   "source": [
    "#3\n",
    "numbers = [10, 20, 30, 40, 50]\n",
    "middle30 = len(numbers) // 2\n",
    "new_list = [numbers[0], numbers[middle_index], numbers[-1]]\n",
    "print(\"Extracted elements:\", new_list)\n"
   ]
  },
  {
   "cell_type": "code",
   "execution_count": 8,
   "id": "ab409bca",
   "metadata": {},
   "outputs": [
    {
     "name": "stdout",
     "output_type": "stream",
     "text": [
      "Tuple of movies: ('Pulp Fiction', 'Interstellar', 'Jango', 'The Hateful Eight', 'The Godfather')\n"
     ]
    }
   ],
   "source": [
    "#4\n",
    "movies = [\"Pulp Fiction\", \"Interstellar\", \"Jango\", \"The Hateful Eight\", \"The Godfather\"]\n",
    "movies_tuple = tuple(movies)\n",
    "print(\"Tuple of movies:\", movies_tuple)\n"
   ]
  },
  {
   "cell_type": "code",
   "execution_count": 9,
   "id": "aeedf934",
   "metadata": {},
   "outputs": [
    {
     "name": "stdout",
     "output_type": "stream",
     "text": [
      "Is Paris in the list? True\n"
     ]
    }
   ],
   "source": [
    "#5\n",
    "cities = [\"Moscow\", \"London\", \"Paris\", \"Tashkent\"]\n",
    "is_paris = \"Paris\" in cities\n",
    "print(\"Is Paris in the list?\", is_paris)\n"
   ]
  },
  {
   "cell_type": "code",
   "execution_count": 10,
   "id": "4106fb97",
   "metadata": {},
   "outputs": [
    {
     "name": "stdout",
     "output_type": "stream",
     "text": [
      "Duplicated list: [1, 2, 3, 1, 2, 3]\n"
     ]
    }
   ],
   "source": [
    "#6\n",
    "numbers = [1, 2, 3]\n",
    "duplicated = numbers * 2\n",
    "print(\"Duplicated list:\", duplicated)\n"
   ]
  },
  {
   "cell_type": "code",
   "execution_count": 12,
   "id": "a3773081",
   "metadata": {},
   "outputs": [
    {
     "name": "stdout",
     "output_type": "stream",
     "text": [
      "Swapped list: [4, 2, 3, 1]\n"
     ]
    }
   ],
   "source": [
    "#7\n",
    "nums = [1, 2, 3, 4]\n",
    "nums[0], nums[-1] = nums[-1], nums[0]\n",
    "print(\"Swapped list:\", nums)\n"
   ]
  },
  {
   "cell_type": "code",
   "execution_count": 13,
   "id": "69ccc439",
   "metadata": {},
   "outputs": [
    {
     "name": "stdout",
     "output_type": "stream",
     "text": [
      "Slice from index 3 to 7: (4, 5, 6, 7, 8)\n"
     ]
    }
   ],
   "source": [
    "#8\n",
    "t = tuple(range(1, 11))\n",
    "print(\"Slice from index 3 to 7:\", t[3:8])\n"
   ]
  },
  {
   "cell_type": "code",
   "execution_count": 14,
   "id": "10df3e91",
   "metadata": {},
   "outputs": [
    {
     "name": "stdout",
     "output_type": "stream",
     "text": [
      "Blue appears 3 times\n"
     ]
    }
   ],
   "source": [
    "#9\n",
    "colors = [\"blue\", \"green\", \"blue\", \"red\", \"blue\"]\n",
    "count = colors.count(\"blue\")\n",
    "print(\"Blue appears\", count, \"times\")\n"
   ]
  },
  {
   "cell_type": "code",
   "execution_count": 15,
   "id": "f7c35fe4",
   "metadata": {},
   "outputs": [
    {
     "name": "stdout",
     "output_type": "stream",
     "text": [
      "Index of lion: 2\n"
     ]
    }
   ],
   "source": [
    "#10\n",
    "animals = (\"cat\", \"dog\", \"lion\", \"tiger\")\n",
    "index = animals.index(\"lion\")\n",
    "print(\"Index of lion:\", index)\n"
   ]
  },
  {
   "cell_type": "code",
   "execution_count": 16,
   "id": "6b7fe06b",
   "metadata": {},
   "outputs": [
    {
     "name": "stdout",
     "output_type": "stream",
     "text": [
      "Merged tuple: (1, 2, 3, 4, 5, 6)\n"
     ]
    }
   ],
   "source": [
    "#11\n",
    "t1 = (1, 2, 3)\n",
    "t2 = (4, 5, 6)\n",
    "merged = t1 + t2\n",
    "print(\"Merged tuple:\", merged)\n"
   ]
  },
  {
   "cell_type": "code",
   "execution_count": 17,
   "id": "66a17e9f",
   "metadata": {},
   "outputs": [
    {
     "name": "stdout",
     "output_type": "stream",
     "text": [
      "Length of list: 3\n",
      "Length of tuple: 4\n"
     ]
    }
   ],
   "source": [
    "#12\n",
    "l = [10, 20, 30]\n",
    "t = (40, 50, 60, 70)\n",
    "print(\"Length of list:\", len(l))\n",
    "print(\"Length of tuple:\", len(t))\n"
   ]
  },
  {
   "cell_type": "code",
   "execution_count": 18,
   "id": "fcde9e92",
   "metadata": {},
   "outputs": [
    {
     "name": "stdout",
     "output_type": "stream",
     "text": [
      "Converted list: [5, 10, 15, 20, 25]\n"
     ]
    }
   ],
   "source": [
    "#13\n",
    "t = (5, 10, 15, 20, 25)\n",
    "converted = list(t)\n",
    "print(\"Converted list:\", converted)\n"
   ]
  },
  {
   "cell_type": "code",
   "execution_count": 20,
   "id": "d89df89c",
   "metadata": {},
   "outputs": [
    {
     "name": "stdout",
     "output_type": "stream",
     "text": [
      "Max 10\n",
      "Min 1\n"
     ]
    }
   ],
   "source": [
    "#14\n",
    "nums = (4, 8, 1, 10, 3)\n",
    "print(\"Max\", max(nums))\n",
    "print(\"Min\", min(nums))\n"
   ]
  },
  {
   "cell_type": "code",
   "execution_count": 21,
   "id": "dd4a9dfb",
   "metadata": {},
   "outputs": [
    {
     "name": "stdout",
     "output_type": "stream",
     "text": [
      "Reversed tuple: ('cherry', 'banana', 'apple')\n"
     ]
    }
   ],
   "source": [
    "#15\n",
    "words = (\"apple\", \"banana\", \"cherry\")\n",
    "reversed_tuple = words[::-1]\n",
    "print(\"Reversed tuple:\", reversed_tuple)\n"
   ]
  }
 ],
 "metadata": {
  "kernelspec": {
   "display_name": "Python 3",
   "language": "python",
   "name": "python3"
  },
  "language_info": {
   "codemirror_mode": {
    "name": "ipython",
    "version": 3
   },
   "file_extension": ".py",
   "mimetype": "text/x-python",
   "name": "python",
   "nbconvert_exporter": "python",
   "pygments_lexer": "ipython3",
   "version": "3.13.3"
  }
 },
 "nbformat": 4,
 "nbformat_minor": 5
}
