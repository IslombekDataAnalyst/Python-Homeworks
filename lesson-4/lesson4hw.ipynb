{
 "cells": [
  {
   "cell_type": "code",
   "execution_count": 1,
   "id": "e87d6e2a",
   "metadata": {},
   "outputs": [
    {
     "name": "stdout",
     "output_type": "stream",
     "text": [
      "Ascending: {'b': 1, 'c': 2, 'a': 3}\n",
      "Descending: {'a': 3, 'c': 2, 'b': 1}\n"
     ]
    }
   ],
   "source": [
    "#Dictionary Exercises\n",
    "#1\n",
    "d = {'a': 3, 'b': 1, 'c': 2}\n",
    "\n",
    "# Ascending\n",
    "asc = dict(sorted(d.items(), key=lambda item: item[1]))\n",
    "print(\"Ascending:\", asc)\n",
    "\n",
    "# Descending\n",
    "desc = dict(sorted(d.items(), key=lambda item: item[1], reverse=True))\n",
    "print(\"Descending:\", desc)\n"
   ]
  },
  {
   "cell_type": "code",
   "execution_count": null,
   "id": "97f32b88",
   "metadata": {},
   "outputs": [
    {
     "name": "stdout",
     "output_type": "stream",
     "text": [
      "{0: 10, 1: 20, 2: 30}\n"
     ]
    }
   ],
   "source": [
    "#2\n",
    "d = {0: 10, 1: 20}\n",
    "d[2] = 30\n",
    "print(d)  \n"
   ]
  },
  {
   "cell_type": "code",
   "execution_count": null,
   "id": "6f842f9c",
   "metadata": {},
   "outputs": [
    {
     "name": "stdout",
     "output_type": "stream",
     "text": [
      "{1: 10, 2: 20, 3: 30}\n"
     ]
    }
   ],
   "source": [
    "#3\n",
    "dic1 = {1: 10}\n",
    "dic2 = {2: 20}\n",
    "dic3 = {3: 30}\n",
    "\n",
    "dic = {}\n",
    "for dict in (dic1, dic2, dic3):\n",
    "    dic.update(dict)\n",
    "print(dic)  \n"
   ]
  },
  {
   "cell_type": "code",
   "execution_count": 8,
   "id": "4cdf16fb",
   "metadata": {},
   "outputs": [
    {
     "name": "stdout",
     "output_type": "stream",
     "text": [
      "Rezultat: {1: 1, 2: 4, 3: 9, 4: 16, 5: 25}\n"
     ]
    }
   ],
   "source": [
    "#4\n",
    "n = 5\n",
    "squares_dict = {x: x*x for x in range(1, n+1)}\n",
    "print(\"Rezultat:\", squares_dict)"
   ]
  },
  {
   "cell_type": "code",
   "execution_count": 9,
   "id": "68374da7",
   "metadata": {},
   "outputs": [
    {
     "name": "stdout",
     "output_type": "stream",
     "text": [
      "Rezultat ot 1 do 15: {1: 1, 2: 4, 3: 9, 4: 16, 5: 25, 6: 36, 7: 49, 8: 64, 9: 81, 10: 100, 11: 121, 12: 144, 13: 169, 14: 196, 15: 225}\n"
     ]
    }
   ],
   "source": [
    "#5\n",
    "squares_dict = {x: x*x for x in range(1, 16)}\n",
    "print(\"Rezultat ot 1 do 15:\", squares_dict)"
   ]
  },
  {
   "cell_type": "code",
   "execution_count": 10,
   "id": "167200ca",
   "metadata": {},
   "outputs": [
    {
     "name": "stdout",
     "output_type": "stream",
     "text": [
      "{1, 2, 3}\n"
     ]
    }
   ],
   "source": [
    "## SET\n",
    "#1\n",
    "s = {1, 2, 3}\n",
    "print(s)\n"
   ]
  },
  {
   "cell_type": "code",
   "execution_count": 11,
   "id": "6a060120",
   "metadata": {},
   "outputs": [
    {
     "name": "stdout",
     "output_type": "stream",
     "text": [
      "1\n",
      "2\n",
      "3\n"
     ]
    }
   ],
   "source": [
    "#2\n",
    "s = {1, 2, 3}\n",
    "for item in s:\n",
    "    print(item)\n"
   ]
  },
  {
   "cell_type": "code",
   "execution_count": 12,
   "id": "53cc9215",
   "metadata": {},
   "outputs": [
    {
     "name": "stdout",
     "output_type": "stream",
     "text": [
      "{1, 2, 3, 4, 5}\n"
     ]
    }
   ],
   "source": [
    "#3\n",
    "s = {1, 2}\n",
    "s.add(3)\n",
    "s.update([4, 5])\n",
    "print(s)\n"
   ]
  },
  {
   "cell_type": "code",
   "execution_count": 13,
   "id": "f19a1ecb",
   "metadata": {},
   "outputs": [
    {
     "name": "stdout",
     "output_type": "stream",
     "text": [
      "{1, 3}\n"
     ]
    }
   ],
   "source": [
    "#4\n",
    "s = {1, 2, 3}\n",
    "s.remove(2)\n",
    "print(s)\n"
   ]
  },
  {
   "cell_type": "code",
   "execution_count": 14,
   "id": "76942199",
   "metadata": {},
   "outputs": [
    {
     "name": "stdout",
     "output_type": "stream",
     "text": [
      "{1, 3}\n"
     ]
    }
   ],
   "source": [
    "#5\n",
    "s = {1, 2, 3}\n",
    "s.discard(2)  # No error if 2 is not in the set\n",
    "print(s)\n"
   ]
  }
 ],
 "metadata": {
  "kernelspec": {
   "display_name": "Python 3",
   "language": "python",
   "name": "python3"
  },
  "language_info": {
   "codemirror_mode": {
    "name": "ipython",
    "version": 3
   },
   "file_extension": ".py",
   "mimetype": "text/x-python",
   "name": "python",
   "nbconvert_exporter": "python",
   "pygments_lexer": "ipython3",
   "version": "3.13.3"
  }
 },
 "nbformat": 4,
 "nbformat_minor": 5
}
