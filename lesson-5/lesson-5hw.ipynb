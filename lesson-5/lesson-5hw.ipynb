{
 "cells": [
  {
   "cell_type": "code",
   "execution_count": null,
   "id": "0eeba58d",
   "metadata": {},
   "outputs": [
    {
     "name": "stdout",
     "output_type": "stream",
     "text": [
      "True\n"
     ]
    }
   ],
   "source": [
    "#1\n",
    "def is_leap_year(year):\n",
    "    \n",
    "   ## Check if a year is a leap year.\n",
    "\n",
    "   ## A year is a leap year if:\n",
    "   ## - It is divisible by 4, and\n",
    "    ##- It is NOT divisible by 100, unless it is also divisible by 400.\n",
    "\n",
    "    ##Parameters:\n",
    "    ##year (int): The year to be checked.\n",
    "\n",
    "    ##Returns:\n",
    "    ##bool: True if the year is a leap year, False otherwise.\n",
    "    ##\\\n",
    "    if not isinstance(year, int):\n",
    "        raise ValueError(\"Year must be an integer.\")\n",
    "\n",
    "    return (year % 4 == 0 and year % 100 != 0) or (year % 400 == 0)\n",
    "print(is_leap_year(2020))"
   ]
  },
  {
   "cell_type": "code",
   "execution_count": 9,
   "id": "4995b9b1",
   "metadata": {},
   "outputs": [
    {
     "name": "stdout",
     "output_type": "stream",
     "text": [
      "weird\n",
      "not Weird\n",
      "not Weird\n",
      "not Weird\n"
     ]
    }
   ],
   "source": [
    "#2\n",
    "def check_weird(n):\n",
    "    if n % 2 == 1:\n",
    "        print(\"weird\")\n",
    "    elif n % 2 == 0 and 2 <= n <= 5:\n",
    "        print(\"not Weird\")\n",
    "    elif n % 2 == 0 and 6 <= n <= 20:\n",
    "        print(\"not Weird\")\n",
    "    elif n % 2 == 0 and n > 20:\n",
    "        print(\"not Weird\")\n",
    "check_weird(3)   # Weird (нечётное)\n",
    "check_weird(4)   # Not Weird (чётное, 2–5)\n",
    "check_weird(18)  # Weird (чётное, 6–20)\n",
    "check_weird(22)  # Not Weird (чётное, >20)\n"
   ]
  },
  {
   "cell_type": "code",
   "execution_count": null,
   "id": "fd10bc1a",
   "metadata": {},
   "outputs": [],
   "source": [
    "#3\n",
    "def even_numbers_if(a, b):\n",
    "    start = a if a % 2 == 0 else a + 1\n",
    "    end = b + 1 if b >= a else b - 1\n",
    "    if a <= b:\n",
    "        return list(range(start, end, 2))\n",
    "    else:\n",
    "        return list(range(start, end, -2))\n"
   ]
  },
  {
   "cell_type": "code",
   "execution_count": null,
   "id": "f4199177",
   "metadata": {},
   "outputs": [],
   "source": [
    "def even_numbers_no_if(a, b):\n",
    "    step = 2 if a <= b else -2\n",
    "    start = a + (a % 2)\n",
    "    end = b + 1 if a <= b else b - 1\n",
    "    return list(range(start, end, step))\n"
   ]
  }
 ],
 "metadata": {
  "kernelspec": {
   "display_name": "Python 3",
   "language": "python",
   "name": "python3"
  },
  "language_info": {
   "codemirror_mode": {
    "name": "ipython",
    "version": 3
   },
   "file_extension": ".py",
   "mimetype": "text/x-python",
   "name": "python",
   "nbconvert_exporter": "python",
   "pygments_lexer": "ipython3",
   "version": "3.13.3"
  }
 },
 "nbformat": 4,
 "nbformat_minor": 5
}
