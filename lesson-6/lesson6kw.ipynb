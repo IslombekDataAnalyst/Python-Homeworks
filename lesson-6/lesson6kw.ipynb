{
 "cells": [
  {
   "cell_type": "code",
   "execution_count": null,
   "id": "14ce8c81",
   "metadata": {},
   "outputs": [],
   "source": []
  },
  {
   "cell_type": "code",
   "execution_count": null,
   "id": "4df874db",
   "metadata": {},
   "outputs": [],
   "source": [
    "#2\n",
    "n = int(input('Son kiriting:'))\n",
    "#0 <= i < n\n",
    "#i*2\n",
    "my_list = list(range(n))\n",
    "for i in my_list:\n",
    "    if  0 <= i < n:\n",
    "        power_son = i**2\n",
    "        print(power_son)"
   ]
  },
  {
   "cell_type": "code",
   "execution_count": null,
   "id": "28ced0d1",
   "metadata": {},
   "outputs": [],
   "source": [
    "##HOMEWORK\n",
    "#2\n",
    "n = int(input('Son kiriting:'))\n",
    "#0 <= i < n\n",
    "#i*2\n",
    "my_list = list(range(n))\n",
    "for i in my_list:\n",
    "    if  0 <= i < n:\n",
    "        power_son = i**2\n",
    "        print(power_son)\n"
   ]
  },
  {
   "cell_type": "code",
   "execution_count": null,
   "id": "b17b671e",
   "metadata": {},
   "outputs": [],
   "source": [
    "#3\n",
    "my_list = [1,2,3,4,5]\n",
    "for j in my_list:\n",
    "    # if j == 1:\n",
    "    #     print(j)\n",
    "    #elif j ==2 :\n",
    "    list_2 = list(range(1,j+1))\n",
    "    # print(list_2)\n",
    "    str_list = [str(num) for num in list_2]\n",
    "    # print(str_list)\n",
    "    print(' '.join(str_list))"
   ]
  },
  {
   "cell_type": "code",
   "execution_count": null,
   "id": "2ede0bad",
   "metadata": {},
   "outputs": [],
   "source": [
    "#3\n",
    "n = 1\n",
    "while n <= 10:\n",
    "    print('Natural son 10 gacha:', n)\n",
    "    n +=1\n",
    "#else: \n",
    "    #print('shart notori berilgan')"
   ]
  },
  {
   "cell_type": "code",
   "execution_count": null,
   "id": "3dae320d",
   "metadata": {},
   "outputs": [],
   "source": []
  },
  {
   "cell_type": "code",
   "execution_count": null,
   "id": "5244369c",
   "metadata": {},
   "outputs": [],
   "source": []
  }
 ],
 "metadata": {
  "kernelspec": {
   "display_name": "Python 3",
   "language": "python",
   "name": "python3"
  },
  "language_info": {
   "codemirror_mode": {
    "name": "ipython",
    "version": 3
   },
   "file_extension": ".py",
   "mimetype": "text/x-python",
   "name": "python",
   "nbconvert_exporter": "python",
   "pygments_lexer": "ipython3",
   "version": "3.13.3"
  }
 },
 "nbformat": 4,
 "nbformat_minor": 5
}
