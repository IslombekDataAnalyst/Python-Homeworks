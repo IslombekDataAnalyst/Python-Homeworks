{
 "cells": [
  {
   "cell_type": "code",
   "execution_count": null,
   "id": "14ce8c81",
   "metadata": {},
   "outputs": [],
   "source": []
  },
  {
   "cell_type": "code",
   "execution_count": null,
   "id": "4df874db",
   "metadata": {},
   "outputs": [],
   "source": [
    "#2\n",
    "n = int(input('Son kiriting:'))\n",
    "#0 <= i < n\n",
    "#i*2\n",
    "my_list = list(range(n))\n",
    "for i in my_list:\n",
    "    if  0 <= i < n:\n",
    "        power_son = i**2\n",
    "        print(power_son)"
   ]
  },
  {
   "cell_type": "code",
   "execution_count": null,
   "id": "28ced0d1",
   "metadata": {},
   "outputs": [],
   "source": [
    "##HOMEWORK\n",
    "#2\n",
    "n = int(input('Son kiriting:'))\n",
    "#0 <= i < n\n",
    "#i*2\n",
    "my_list = list(range(n))\n",
    "for i in my_list:\n",
    "    if  0 <= i < n:\n",
    "        power_son = i**2\n",
    "        print(power_son)\n"
   ]
  },
  {
   "cell_type": "code",
   "execution_count": null,
   "id": "b17b671e",
   "metadata": {},
   "outputs": [],
   "source": [
    "#3\n",
    "my_list = [1,2,3,4,5]\n",
    "for j in my_list:\n",
    "    # if j == 1:\n",
    "    #     print(j)\n",
    "    #elif j ==2 :\n",
    "    list_2 = list(range(1,j+1))\n",
    "    # print(list_2)\n",
    "    str_list = [str(num) for num in list_2]\n",
    "    # print(str_list)\n",
    "    print(' '.join(str_list))"
   ]
  },
  {
   "cell_type": "code",
   "execution_count": null,
   "id": "2ede0bad",
   "metadata": {},
   "outputs": [],
   "source": [
    "#3\n",
    "n = 1\n",
    "while n <= 10:\n",
    "    print('Natural son 10 gacha:', n)\n",
    "    n +=1\n",
    "#else: \n",
    "    #print('shart notori berilgan')"
   ]
  },
  {
   "cell_type": "code",
   "execution_count": 1,
   "id": "3dae320d",
   "metadata": {},
   "outputs": [
    {
     "name": "stdout",
     "output_type": "stream",
     "text": [
      "55.0\n"
     ]
    }
   ],
   "source": [
    "#Calculate sum of all numbers from 1 to a given number\n",
    "\n",
    "n = int(input())\n",
    "sum_num = (n * (n+1))/2\n",
    "print(sum_num)"
   ]
  },
  {
   "cell_type": "code",
   "execution_count": 4,
   "id": "5244369c",
   "metadata": {},
   "outputs": [
    {
     "name": "stdout",
     "output_type": "stream",
     "text": [
      "2 x 1 = 2\n",
      "2 x 2 = 4\n",
      "2 x 3 = 6\n",
      "2 x 4 = 8\n",
      "2 x 5 = 10\n",
      "2 x 6 = 12\n",
      "2 x 7 = 14\n",
      "2 x 8 = 16\n",
      "2 x 9 = 18\n",
      "2 x 10 = 20\n"
     ]
    }
   ],
   "source": [
    "#Print multiplication table of a given number\n",
    "num = int(input(\"Son kiriting: \"))\n",
    "\n",
    "for i in range(1, 11):\n",
    "    print(f\"{num} x {i} = {num * i}\")\n"
   ]
  },
  {
   "cell_type": "code",
   "execution_count": 11,
   "id": "6cc1e884",
   "metadata": {},
   "outputs": [
    {
     "name": "stdout",
     "output_type": "stream",
     "text": [
      "75\n",
      "150\n",
      "145\n"
     ]
    }
   ],
   "source": [
    "#3\n",
    "numbers = [12, 75, 150, 180, 145, 525, 50]\n",
    "\n",
    "for num in [75,150,145]:\n",
    "        print(num)\n",
    "    \n"
   ]
  },
  {
   "cell_type": "code",
   "execution_count": 12,
   "id": "fa693068",
   "metadata": {},
   "outputs": [
    {
     "name": "stdout",
     "output_type": "stream",
     "text": [
      "Raqamlar soni: 5\n"
     ]
    }
   ],
   "source": [
    "#3\n",
    "num = int(input(\"Son kiriting: \"))\n",
    "count = len(str(abs(num)))\n",
    "print(\"Raqamlar soni:\", count)\n"
   ]
  },
  {
   "cell_type": "code",
   "execution_count": 13,
   "id": "fcb939c2",
   "metadata": {},
   "outputs": [
    {
     "name": "stdout",
     "output_type": "stream",
     "text": [
      "5 4 3 2 1 \n",
      "4 3 2 1 \n",
      "3 2 1 \n",
      "2 1 \n",
      "1 \n"
     ]
    }
   ],
   "source": [
    "#3 Print reverse number pattern\n",
    "n = int(input(\"Son kiriting: \"))\n",
    "\n",
    "for i in range(n, 0, -1):\n",
    "    for j in range(i, 0, -1):\n",
    "        print(j, end=\" \")\n",
    "    print()\n"
   ]
  },
  {
   "cell_type": "code",
   "execution_count": 14,
   "id": "6a8044bf",
   "metadata": {},
   "outputs": [
    {
     "name": "stdout",
     "output_type": "stream",
     "text": [
      "[50, 40, 30, 20, 10]\n"
     ]
    }
   ],
   "source": [
    "#3\n",
    "list1 = [10, 20, 30, 40, 50]\n",
    "print(list1[::-1])"
   ]
  },
  {
   "cell_type": "code",
   "execution_count": null,
   "id": "b3d7a942",
   "metadata": {},
   "outputs": [
    {
     "name": "stdout",
     "output_type": "stream",
     "text": [
      "50\n",
      "40\n",
      "30\n",
      "20\n",
      "10\n"
     ]
    }
   ],
   "source": [
    "#3\n",
    "list1 = [10, 20, 30, 40, 50]\n",
    "for i in range(len(list1) - 1, -1, -1):\n",
    "    print(list1[i])"
   ]
  },
  {
   "cell_type": "code",
   "execution_count": 17,
   "id": "f6ac2e31",
   "metadata": {},
   "outputs": [
    {
     "name": "stdout",
     "output_type": "stream",
     "text": [
      "-10\n",
      "-9\n",
      "-8\n",
      "-7\n",
      "-6\n",
      "-5\n",
      "-4\n",
      "-3\n",
      "-2\n",
      "-1\n"
     ]
    }
   ],
   "source": [
    "#3\n",
    "for i in range(-10, 0):\n",
    "    print(i)\n"
   ]
  },
  {
   "cell_type": "code",
   "execution_count": 18,
   "id": "ec2691a2",
   "metadata": {},
   "outputs": [
    {
     "name": "stdout",
     "output_type": "stream",
     "text": [
      "0\n",
      "1\n",
      "2\n",
      "3\n",
      "4\n",
      "Done\n"
     ]
    }
   ],
   "source": [
    "#3\n",
    "for i in range(5):\n",
    "    print(i)\n",
    "else:\n",
    "    print(\"Done\")\n"
   ]
  },
  {
   "cell_type": "code",
   "execution_count": null,
   "id": "23e8bfdc",
   "metadata": {},
   "outputs": [],
   "source": [
    "#3\n",
    "start = int(input(\"Boshlangich son kiriting: \"))\n",
    "end = int(input(\"Oxirgi son kiriting: \"))\n",
    "\n",
    "for num in range(start, end + 1):\n",
    "    if num > 1:\n",
    "        for i in range(2, num):\n",
    "            if num % i == 0:\n",
    "                break\n",
    "        else:\n",
    "            print(num)\n"
   ]
  },
  {
   "cell_type": "code",
   "execution_count": 21,
   "id": "591338fc",
   "metadata": {},
   "outputs": [
    {
     "name": "stdout",
     "output_type": "stream",
     "text": [
      "0 1 1 2 3 5 8 13 21 34 "
     ]
    }
   ],
   "source": [
    "#3\n",
    "n = 10 \n",
    "a, b = 0, 1\n",
    "\n",
    "for _ in range(n):\n",
    "    print(a, end=\" \")\n",
    "    a, b = b, a + b\n"
   ]
  },
  {
   "cell_type": "code",
   "execution_count": null,
   "id": "f748bdc0",
   "metadata": {},
   "outputs": [],
   "source": [
    "#3\n",
    "num = int(input(\"Введите число: \"))\n",
    "factorial = 1\n",
    "\n",
    "if num < 0:\n",
    "    print(\"Факториал отрицательного числа не существует.\")\n",
    "else:\n",
    "    for i in range(1, num + 1):\n",
    "        factorial *= i\n",
    "    print(\"Факториал числа\", num, \"равен\", factorial)\n"
   ]
  },
  {
   "cell_type": "code",
   "execution_count": 22,
   "id": "22449cc3",
   "metadata": {},
   "outputs": [
    {
     "name": "stdout",
     "output_type": "stream",
     "text": [
      "Uncommon elements: [1, 3, 4]\n"
     ]
    }
   ],
   "source": [
    "#4\n",
    "list1 = [1, 1, 2]\n",
    "list2 = [2, 3, 4]\n",
    "\n",
    "set1 = set(list1)\n",
    "set2 = set(list2)\n",
    "\n",
    "uncommon = list((set1 - set2) | (set2 - set1))\n",
    "print(\"Uncommon elements:\", uncommon)\n"
   ]
  }
 ],
 "metadata": {
  "kernelspec": {
   "display_name": "Python 3",
   "language": "python",
   "name": "python3"
  },
  "language_info": {
   "codemirror_mode": {
    "name": "ipython",
    "version": 3
   },
   "file_extension": ".py",
   "mimetype": "text/x-python",
   "name": "python",
   "nbconvert_exporter": "python",
   "pygments_lexer": "ipython3",
   "version": "3.13.3"
  }
 },
 "nbformat": 4,
 "nbformat_minor": 5
}
